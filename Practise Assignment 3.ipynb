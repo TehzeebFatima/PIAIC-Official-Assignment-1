{
 "cells": [
  {
   "cell_type": "markdown",
   "metadata": {},
   "source": [
    "# Q1:"
   ]
  },
  {
   "cell_type": "markdown",
   "metadata": {},
   "source": [
    "Think of at least three kinds of your favorite pizza. Store these pizza names in a list, and then use a for loop to print the name of each pizza."
   ]
  },
  {
   "cell_type": "code",
   "execution_count": 1,
   "metadata": {},
   "outputs": [
    {
     "name": "stdout",
     "output_type": "stream",
     "text": [
      "0 Fajita\n",
      "1 Fajita\n",
      "2 Fajita\n"
     ]
    }
   ],
   "source": [
    "for pizza in range (3):\n",
    "    print (pizza, 'Fajita')"
   ]
  },
  {
   "cell_type": "code",
   "execution_count": 2,
   "metadata": {},
   "outputs": [
    {
     "name": "stdout",
     "output_type": "stream",
     "text": [
      "0 Extreme Cheese\n",
      "1 Extreme Cheese\n",
      "2 Extreme Cheese\n",
      "3 Extreme Cheese\n"
     ]
    }
   ],
   "source": [
    "for taste in range (4):\n",
    "    print (taste, 'Extreme Cheese')"
   ]
  },
  {
   "cell_type": "code",
   "execution_count": 3,
   "metadata": {},
   "outputs": [
    {
     "name": "stdout",
     "output_type": "stream",
     "text": [
      "0 Supreme chicken\n",
      "1 Supreme chicken\n",
      "2 Supreme chicken\n",
      "3 Supreme chicken\n",
      "4 Supreme chicken\n"
     ]
    }
   ],
   "source": [
    "for love in range (5):\n",
    "    print (love, 'Supreme chicken')"
   ]
  },
  {
   "cell_type": "markdown",
   "metadata": {},
   "source": [
    "# Q2"
   ]
  },
  {
   "cell_type": "markdown",
   "metadata": {},
   "source": [
    "Start with your last question , Modify your for loop to print a sentence using the name of the pizza\n",
    "instead of printing just the name of the pizza. For each pizza you should\n",
    "have one line of output containing a simple statement like I like pepperoni\n",
    "pizza."
   ]
  },
  {
   "cell_type": "code",
   "execution_count": 4,
   "metadata": {},
   "outputs": [
    {
     "name": "stdout",
     "output_type": "stream",
     "text": [
      "0 The first pizza I ate was Fajita.\n",
      "1 The first pizza I ate was Fajita.\n",
      "2 The first pizza I ate was Fajita.\n"
     ]
    }
   ],
   "source": [
    "for pizza in range (3):\n",
    "    print (pizza, 'The first pizza I ate was Fajita.')"
   ]
  },
  {
   "cell_type": "code",
   "execution_count": 5,
   "metadata": {},
   "outputs": [
    {
     "name": "stdout",
     "output_type": "stream",
     "text": [
      "Extreme cheese is what I choose to have.\n",
      "Extreme cheese is what I choose to have.\n",
      "Extreme cheese is what I choose to have.\n",
      "Extreme cheese is what I choose to have.\n"
     ]
    }
   ],
   "source": [
    "for taste in range (4):\n",
    "    print ('Extreme cheese is what I choose to have.')"
   ]
  },
  {
   "cell_type": "code",
   "execution_count": 6,
   "metadata": {},
   "outputs": [
    {
     "name": "stdout",
     "output_type": "stream",
     "text": [
      "0 Supreme cheese! I m lovin it.\n",
      "1 Supreme cheese! I m lovin it.\n",
      "2 Supreme cheese! I m lovin it.\n",
      "3 Supreme cheese! I m lovin it.\n",
      "4 Supreme cheese! I m lovin it.\n"
     ]
    }
   ],
   "source": [
    "for love in range (5):\n",
    "    print (love, 'Supreme cheese! I'' m' ' lovin'' it.')"
   ]
  },
  {
   "cell_type": "markdown",
   "metadata": {},
   "source": [
    "# Q3:"
   ]
  },
  {
   "cell_type": "markdown",
   "metadata": {},
   "source": [
    "Use a for loop to print the numbers from 1 to 20,\n",
    "inclusive."
   ]
  },
  {
   "cell_type": "code",
   "execution_count": 7,
   "metadata": {},
   "outputs": [
    {
     "name": "stdout",
     "output_type": "stream",
     "text": [
      "1\n",
      "2\n",
      "3\n",
      "4\n",
      "5\n",
      "6\n",
      "7\n",
      "8\n",
      "9\n",
      "10\n",
      "11\n",
      "12\n",
      "13\n",
      "14\n",
      "15\n",
      "16\n",
      "17\n",
      "18\n",
      "19\n",
      "20\n"
     ]
    }
   ],
   "source": [
    "for num in range (1,21):\n",
    "    print (num)"
   ]
  },
  {
   "cell_type": "code",
   "execution_count": null,
   "metadata": {},
   "outputs": [],
   "source": []
  },
  {
   "cell_type": "code",
   "execution_count": null,
   "metadata": {},
   "outputs": [],
   "source": []
  },
  {
   "cell_type": "markdown",
   "metadata": {},
   "source": [
    "# Q4:"
   ]
  },
  {
   "cell_type": "markdown",
   "metadata": {},
   "source": [
    "Use the third argument of the range() function to make a list\n",
    "of the odd numbers from 1 to 20. Use a for loop to print each number."
   ]
  },
  {
   "cell_type": "code",
   "execution_count": 8,
   "metadata": {},
   "outputs": [
    {
     "name": "stdout",
     "output_type": "stream",
     "text": [
      "1\n",
      "3\n",
      "5\n",
      "7\n",
      "9\n",
      "11\n",
      "13\n",
      "15\n",
      "17\n",
      "19\n"
     ]
    }
   ],
   "source": [
    "for num in range (1,20,2):\n",
    "    print (num)"
   ]
  },
  {
   "cell_type": "code",
   "execution_count": null,
   "metadata": {},
   "outputs": [],
   "source": [
    "\n"
   ]
  },
  {
   "cell_type": "code",
   "execution_count": null,
   "metadata": {},
   "outputs": [],
   "source": []
  },
  {
   "cell_type": "markdown",
   "metadata": {},
   "source": [
    "# Q5:"
   ]
  },
  {
   "cell_type": "markdown",
   "metadata": {},
   "source": [
    "Make a list of the multiples of 3 from 3 to 30. Use a for loop to\n",
    "print the numbers in your list."
   ]
  },
  {
   "cell_type": "code",
   "execution_count": 9,
   "metadata": {},
   "outputs": [
    {
     "name": "stdout",
     "output_type": "stream",
     "text": [
      "3\n",
      "6\n",
      "9\n",
      "12\n",
      "15\n",
      "18\n",
      "21\n",
      "24\n",
      "27\n"
     ]
    }
   ],
   "source": [
    "for loop in range (3,30,3):\n",
    "    print (loop)"
   ]
  },
  {
   "cell_type": "code",
   "execution_count": null,
   "metadata": {},
   "outputs": [],
   "source": []
  },
  {
   "cell_type": "code",
   "execution_count": null,
   "metadata": {},
   "outputs": [],
   "source": []
  },
  {
   "cell_type": "code",
   "execution_count": null,
   "metadata": {},
   "outputs": [],
   "source": []
  },
  {
   "cell_type": "markdown",
   "metadata": {},
   "source": [
    "# Q6:"
   ]
  },
  {
   "cell_type": "markdown",
   "metadata": {},
   "source": [
    "A number raised to the third power is called a cube. For example,\n",
    "the cube of 2 is written as 2**3 in Python. Make a list of the first 10 cubes (that\n",
    "is, the cube of each integer from 1 through 10), and use a for loop to print out\n",
    "the value of each cube"
   ]
  },
  {
   "cell_type": "code",
   "execution_count": 10,
   "metadata": {},
   "outputs": [
    {
     "name": "stdout",
     "output_type": "stream",
     "text": [
      "1\n",
      "8\n",
      "27\n",
      "64\n",
      "125\n",
      "216\n",
      "343\n",
      "512\n",
      "729\n",
      "1000\n"
     ]
    }
   ],
   "source": [
    "for cube in range (1,11):\n",
    "    print (cube**3)"
   ]
  },
  {
   "cell_type": "code",
   "execution_count": null,
   "metadata": {},
   "outputs": [],
   "source": []
  },
  {
   "cell_type": "code",
   "execution_count": null,
   "metadata": {},
   "outputs": [],
   "source": []
  },
  {
   "cell_type": "code",
   "execution_count": null,
   "metadata": {},
   "outputs": [],
   "source": []
  },
  {
   "cell_type": "markdown",
   "metadata": {},
   "source": [
    "# Q7:"
   ]
  },
  {
   "cell_type": "markdown",
   "metadata": {},
   "source": [
    "###### Make a python program that conatains your nine favourite dishes in a list called foods.\n",
    "\n",
    "###### Print the message, The first three items in the list are:. \n",
    "###### Then use a slice to print the first three items from that program’s list.\n",
    "\n",
    "###### Print the message, Three items from the middle of the list are:\n",
    "###### Use a slice to print three items from the middle of the list.\n",
    "\n",
    "###### Print the message, The last three items in the list are:\n",
    "###### Use a slice to print the last three items in the list."
   ]
  },
  {
   "cell_type": "code",
   "execution_count": null,
   "metadata": {},
   "outputs": [],
   "source": []
  },
  {
   "cell_type": "code",
   "execution_count": 11,
   "metadata": {},
   "outputs": [
    {
     "data": {
      "text/plain": [
       "('Biryani',\n",
       " 'Burger',\n",
       " 'Pizza',\n",
       " 'Pasta',\n",
       " 'Fries',\n",
       " 'Tikka',\n",
       " 'Rolls',\n",
       " 'Daleem',\n",
       " 'Karahi')"
      ]
     },
     "execution_count": 11,
     "metadata": {},
     "output_type": "execute_result"
    }
   ],
   "source": [
    "foods = ('Biryani', 'Burger', 'Pizza', 'Pasta', 'Fries', 'Tikka', 'Rolls', 'Daleem', 'Karahi' )\n",
    "foods"
   ]
  },
  {
   "cell_type": "code",
   "execution_count": 12,
   "metadata": {},
   "outputs": [
    {
     "name": "stdout",
     "output_type": "stream",
     "text": [
      "The first three items in the list are:\n",
      "('Biryani', 'Burger', 'Pizza')\n"
     ]
    }
   ],
   "source": [
    "print ('The first three items in the list are:')\n",
    "print (foods [:3])"
   ]
  },
  {
   "cell_type": "code",
   "execution_count": 13,
   "metadata": {},
   "outputs": [
    {
     "name": "stdout",
     "output_type": "stream",
     "text": [
      "Three items from the middle of the list are:\n",
      "('Pasta', 'Fries', 'Tikka')\n"
     ]
    }
   ],
   "source": [
    "print ('Three items from the middle of the list are:')\n",
    "print (foods [3:6])"
   ]
  },
  {
   "cell_type": "code",
   "execution_count": 14,
   "metadata": {},
   "outputs": [
    {
     "name": "stdout",
     "output_type": "stream",
     "text": [
      "The last three items in the list are:\n",
      "('Rolls', 'Daleem', 'Karahi')\n"
     ]
    }
   ],
   "source": [
    "print ('The last three items in the list are:')\n",
    "print (foods [6:])"
   ]
  },
  {
   "cell_type": "code",
   "execution_count": null,
   "metadata": {},
   "outputs": [],
   "source": []
  },
  {
   "cell_type": "code",
   "execution_count": null,
   "metadata": {},
   "outputs": [],
   "source": []
  },
  {
   "cell_type": "markdown",
   "metadata": {},
   "source": [
    "# Q8:"
   ]
  },
  {
   "cell_type": "markdown",
   "metadata": {},
   "source": [
    "### Start with your program from your last Question8.\n",
    "###### Make a copy of the list of foods, and call it friend_foods.\n",
    "###### Then, do the following:\n",
    "######    Add a new dish to the original list.\n",
    "######    Add a different dish to the list friend_foodss.\n",
    "######    Prove that you have two separate lists. \n",
    "###### Print the message, My favorite pizzas are: and then use a for loop to print the first list. \n",
    "###### Print the message,\n",
    "###### My friend’s favorite foods are:, and then use a for loop to print the second list.\n",
    "    \n",
    "##### NOTE: Make sure each new dish is stored in the appropriate list."
   ]
  },
  {
   "cell_type": "code",
   "execution_count": 15,
   "metadata": {},
   "outputs": [
    {
     "data": {
      "text/plain": [
       "['Biryani',\n",
       " 'Burger',\n",
       " 'Pizza',\n",
       " 'Pasta',\n",
       " 'Fries',\n",
       " 'Tikka',\n",
       " 'Rolls',\n",
       " 'Daleem',\n",
       " 'Karahi']"
      ]
     },
     "execution_count": 15,
     "metadata": {},
     "output_type": "execute_result"
    }
   ],
   "source": [
    "foods = ['Biryani', 'Burger', 'Pizza', 'Pasta', 'Fries', 'Tikka', 'Rolls', 'Daleem', 'Karahi' ]\n",
    "foods"
   ]
  },
  {
   "cell_type": "code",
   "execution_count": 16,
   "metadata": {},
   "outputs": [
    {
     "data": {
      "text/plain": [
       "['Biryani',\n",
       " 'Burger',\n",
       " 'Pizza',\n",
       " 'Pasta',\n",
       " 'Fries',\n",
       " 'Tikka',\n",
       " 'Rolls',\n",
       " 'Daleem',\n",
       " 'Karahi']"
      ]
     },
     "execution_count": 16,
     "metadata": {},
     "output_type": "execute_result"
    }
   ],
   "source": [
    "friend_foods = foods.copy()\n",
    "friend_foods"
   ]
  },
  {
   "cell_type": "code",
   "execution_count": 17,
   "metadata": {},
   "outputs": [
    {
     "data": {
      "text/plain": [
       "['Biryani',\n",
       " 'Burger',\n",
       " 'Pizza',\n",
       " 'Pasta',\n",
       " 'Fries',\n",
       " 'Tikka',\n",
       " 'Rolls',\n",
       " 'Daleem',\n",
       " 'Karahi',\n",
       " 'Gol Gappy']"
      ]
     },
     "execution_count": 17,
     "metadata": {},
     "output_type": "execute_result"
    }
   ],
   "source": [
    "foods = ['Biryani', 'Burger', 'Pizza', 'Pasta', 'Fries', 'Tikka', 'Rolls', 'Daleem', 'Karahi' ]\n",
    "foods.append ('Gol Gappy')\n",
    "foods"
   ]
  },
  {
   "cell_type": "code",
   "execution_count": 18,
   "metadata": {},
   "outputs": [
    {
     "data": {
      "text/plain": [
       "['Biryani',\n",
       " 'Burger',\n",
       " 'Pizza',\n",
       " 'Pasta',\n",
       " 'Fries',\n",
       " 'Tikka',\n",
       " 'Rolls',\n",
       " 'Daleem',\n",
       " 'Karahi',\n",
       " 'Dahi Bary']"
      ]
     },
     "execution_count": 18,
     "metadata": {},
     "output_type": "execute_result"
    }
   ],
   "source": [
    "friend_foods.append ('Dahi Bary')\n",
    "friend_foods"
   ]
  },
  {
   "cell_type": "code",
   "execution_count": 19,
   "metadata": {},
   "outputs": [
    {
     "name": "stdout",
     "output_type": "stream",
     "text": [
      "These are two separate lists.\n"
     ]
    }
   ],
   "source": [
    "if foods != friend_foods:\n",
    "    print (\"These are two separate lists.\")\n",
    "else:\n",
    "    print ('Both the lists are same.')\n"
   ]
  },
  {
   "cell_type": "code",
   "execution_count": 20,
   "metadata": {},
   "outputs": [
    {
     "name": "stdout",
     "output_type": "stream",
     "text": [
      "My favorite foods are:\n",
      "Biryani\n",
      "Burger\n",
      "Pizza\n",
      "Pasta\n",
      "Fries\n",
      "Tikka\n",
      "Rolls\n",
      "Daleem\n",
      "Karahi\n",
      "Gol Gappy\n"
     ]
    }
   ],
   "source": [
    "print (f'My favorite foods are:')\n",
    "for a in foods:\n",
    "    print (a)\n"
   ]
  },
  {
   "cell_type": "code",
   "execution_count": 21,
   "metadata": {},
   "outputs": [
    {
     "name": "stdout",
     "output_type": "stream",
     "text": [
      "My friendsfavorite foods are:\n",
      "Biryani\n",
      "Burger\n",
      "Pizza\n",
      "Pasta\n",
      "Fries\n",
      "Tikka\n",
      "Rolls\n",
      "Daleem\n",
      "Karahi\n",
      "Dahi Bary\n"
     ]
    }
   ],
   "source": [
    "print ('My friend''s' 'favorite foods are:')\n",
    "for food in friend_foods:\n",
    "    print (food)"
   ]
  },
  {
   "cell_type": "code",
   "execution_count": null,
   "metadata": {},
   "outputs": [],
   "source": []
  },
  {
   "cell_type": "code",
   "execution_count": null,
   "metadata": {},
   "outputs": [],
   "source": [
    " "
   ]
  },
  {
   "cell_type": "code",
   "execution_count": null,
   "metadata": {},
   "outputs": [],
   "source": []
  },
  {
   "cell_type": "markdown",
   "metadata": {},
   "source": [
    "# Q9:"
   ]
  },
  {
   "cell_type": "markdown",
   "metadata": {},
   "source": [
    "Take a user input from console line.Store it in a variable called Alien_color.\n",
    "\n",
    "If the alien’s color is red, print a statement that the player just earned 5 points for shooting the alien.\n",
    "\n",
    "If the alien’s color isn’t green, print a statement that the player just earned 10 points.\n",
    "\n",
    "If the alien's color isn't red or green , print a statment :, Alien is no more....."
   ]
  },
  {
   "cell_type": "code",
   "execution_count": 22,
   "metadata": {},
   "outputs": [
    {
     "name": "stdout",
     "output_type": "stream",
     "text": [
      "Enter Alien_color: red\n",
      "The player just earned 5 points for shooting the alien\n"
     ]
    }
   ],
   "source": [
    "aliencolor = input('Enter Alien_color: ')\n",
    "if aliencolor == 'red':\n",
    "    print ('The player just earned 5 points for shooting the alien')\n",
    "elif aliencolor =='green':\n",
    "    print ('The player just earned 10 points.')\n",
    "else:\n",
    "    print ('Alien is no more....')"
   ]
  },
  {
   "cell_type": "code",
   "execution_count": 23,
   "metadata": {},
   "outputs": [
    {
     "name": "stdout",
     "output_type": "stream",
     "text": [
      "Enter Alien_color: green\n",
      "The player just earned 10 points.\n"
     ]
    }
   ],
   "source": [
    "aliencolor = input('Enter Alien_color: ')\n",
    "if aliencolor == 'red':\n",
    "    print ('The player just earned 5 points for shooting the alien')\n",
    "elif aliencolor =='green':\n",
    "    print ('The player just earned 10 points.')\n",
    "else:\n",
    "    print ('Alien is no more....')"
   ]
  },
  {
   "cell_type": "code",
   "execution_count": 24,
   "metadata": {},
   "outputs": [
    {
     "name": "stdout",
     "output_type": "stream",
     "text": [
      "Enter Alien_color: yellow\n",
      "Alien is no more....\n"
     ]
    }
   ],
   "source": [
    "aliencolor = input('Enter Alien_color: ')\n",
    "if aliencolor == 'red':\n",
    "    print ('The player just earned 5 points for shooting the alien')\n",
    "elif aliencolor =='green':\n",
    "    print ('The player just earned 10 points.')\n",
    "else:\n",
    "    print ('Alien is no more....')"
   ]
  },
  {
   "cell_type": "code",
   "execution_count": null,
   "metadata": {},
   "outputs": [],
   "source": []
  },
  {
   "cell_type": "markdown",
   "metadata": {},
   "source": [
    "# Q10:"
   ]
  },
  {
   "cell_type": "markdown",
   "metadata": {},
   "source": [
    "Write an if-elif-else chain that determines a person’s\n",
    "stage of life. Set a value for the variable age, and then:\n",
    "    \n",
    "•\t If the person is less than 2 years old, print a message that the person is a baby.\n",
    "\n",
    "•\t If the person is at least 2 years old but less than 4, print a message that the person is a toddler.\n",
    "\n",
    "•\t If the person is at least 4 years old but less than 13, print a message that the person is a kid.\n",
    "\n",
    "•\t If the person is at least 13 years old but less than 20, print a message that the person is a teenager.\n",
    "\n",
    "•\t If the person is at least 20 years old but less than 65, print a message that the person is an adult.\n",
    "\n",
    "•\t If the person is age 65 or older, print a message that the person is an elder."
   ]
  },
  {
   "cell_type": "code",
   "execution_count": 25,
   "metadata": {},
   "outputs": [
    {
     "name": "stdout",
     "output_type": "stream",
     "text": [
      "Enter your age:1\n",
      "The person is a baby.\n"
     ]
    }
   ],
   "source": [
    "age = int(input('Enter your age:'))\n",
    "if age < 2:\n",
    "    print ('The person is a baby.')\n",
    "elif age >2 and age <4:\n",
    "    print ('The person is a toddler.')\n",
    "elif age >3 and age <13:\n",
    "    print ('The person is a kid.')\n",
    "elif age >12 and age <20:\n",
    "    print ('The person is a teenager.')\n",
    "elif age >19 and age <65:\n",
    "    print ('The person is an adult.')\n",
    "else:\n",
    "    print ('The person is an elder.')"
   ]
  },
  {
   "cell_type": "code",
   "execution_count": 26,
   "metadata": {},
   "outputs": [
    {
     "name": "stdout",
     "output_type": "stream",
     "text": [
      "Enter your age:3\n",
      "The person is a toddler.\n"
     ]
    }
   ],
   "source": [
    "age = int(input('Enter your age:'))\n",
    "if age < 2:\n",
    "    print ('The person is a baby.')\n",
    "elif age >2 and age <4:\n",
    "    print ('The person is a toddler.')\n",
    "elif age >3 and age <13:\n",
    "    print ('The person is a kid.')\n",
    "elif age >12 and age <20:\n",
    "    print ('The person is a teenager.')\n",
    "elif age >19 and age <65:\n",
    "    print ('The person is an adult.')\n",
    "else:\n",
    "    print ('The person is an elder.')"
   ]
  },
  {
   "cell_type": "code",
   "execution_count": 27,
   "metadata": {},
   "outputs": [
    {
     "name": "stdout",
     "output_type": "stream",
     "text": [
      "Enter your age:8\n",
      "The person is a kid.\n"
     ]
    }
   ],
   "source": [
    "age = int(input('Enter your age:'))\n",
    "if age < 2:\n",
    "    print ('The person is a baby.')\n",
    "elif age >2 and age <4:\n",
    "    print ('The person is a toddler.')\n",
    "elif age >3 and age <13:\n",
    "    print ('The person is a kid.')\n",
    "elif age >12 and age <20:\n",
    "    print ('The person is a teenager.')\n",
    "elif age >19 and age <65:\n",
    "    print ('The person is an adult.')\n",
    "else:\n",
    "    print ('The person is an elder.')"
   ]
  },
  {
   "cell_type": "code",
   "execution_count": 28,
   "metadata": {},
   "outputs": [
    {
     "name": "stdout",
     "output_type": "stream",
     "text": [
      "Enter your age:15\n",
      "The person is a teenager.\n"
     ]
    }
   ],
   "source": [
    "age = int(input('Enter your age:'))\n",
    "if age < 2:\n",
    "    print ('The person is a baby.')\n",
    "elif age >2 and age <4:\n",
    "    print ('The person is a toddler.')\n",
    "elif age >3 and age <13:\n",
    "    print ('The person is a kid.')\n",
    "elif age >12 and age <20:\n",
    "    print ('The person is a teenager.')\n",
    "elif age >19 and age <65:\n",
    "    print ('The person is an adult.')\n",
    "else:\n",
    "    print ('The person is an elder.')"
   ]
  },
  {
   "cell_type": "code",
   "execution_count": 29,
   "metadata": {},
   "outputs": [
    {
     "name": "stdout",
     "output_type": "stream",
     "text": [
      "Enter your age:25\n",
      "The person is an adult.\n"
     ]
    }
   ],
   "source": [
    "age = int(input('Enter your age:'))\n",
    "if age < 2:\n",
    "    print ('The person is a baby.')\n",
    "elif age >2 and age <4:\n",
    "    print ('The person is a toddler.')\n",
    "elif age >3 and age <13:\n",
    "    print ('The person is a kid.')\n",
    "elif age >12 and age <20:\n",
    "    print ('The person is a teenager.')\n",
    "elif age >19 and age <65:\n",
    "    print ('The person is an adult.')\n",
    "else:\n",
    "    print ('The person is an elder.')"
   ]
  },
  {
   "cell_type": "code",
   "execution_count": 30,
   "metadata": {},
   "outputs": [
    {
     "name": "stdout",
     "output_type": "stream",
     "text": [
      "Enter your age:68\n",
      "The person is an elder.\n"
     ]
    }
   ],
   "source": [
    "age = int(input('Enter your age:'))\n",
    "if age < 2:\n",
    "    print ('The person is a baby.')\n",
    "elif age >2 and age <4:\n",
    "    print ('The person is a toddler.')\n",
    "elif age >3 and age <13:\n",
    "    print ('The person is a kid.')\n",
    "elif age >12 and age <20:\n",
    "    print ('The person is a teenager.')\n",
    "elif age >19 and age <65:\n",
    "    print ('The person is an adult.')\n",
    "else:\n",
    "    print ('The person is an elder.')"
   ]
  },
  {
   "cell_type": "markdown",
   "metadata": {},
   "source": [
    "# Q11:"
   ]
  },
  {
   "cell_type": "markdown",
   "metadata": {},
   "source": [
    "Do the following to create a program that simulates how websites ensure that everyone has a unique username.\n",
    "\n",
    "•\t Make a list of five or more usernames called current_users.\n",
    "\n",
    "•\t Make another list of five usernames called new_users. \n",
    "Make sure one or two of the new usernames are also in the current_users list.\n",
    "\n",
    "•\t Loop through the new_users list to see if each new username has already been used. \n",
    "If it has, print a message that the person will need to enter a new username. \n",
    "If a username has not been used, print a message saying that the username is available.\n",
    "\n",
    "•\t Make sure your comparison is case insensitive. If 'John' has been used, 'JOHN' should not be accepted."
   ]
  },
  {
   "cell_type": "code",
   "execution_count": 31,
   "metadata": {},
   "outputs": [
    {
     "name": "stdout",
     "output_type": "stream",
     "text": [
      "Jabeen: User name is availabe.\n",
      "Sukaina: User name is availabe.\n",
      "Hiba: Username already taken, please enter a new one.\n",
      "Tehzeeb: Username already taken, please enter a new one.\n"
     ]
    }
   ],
   "source": [
    "current_users = ['Hiba', 'Urooj', 'Neha', 'Tehzeeb']\n",
    "new_users = ['Jabeen', 'Sukaina', 'Hiba', 'Tehzeeb']\n",
    "for a in new_users:\n",
    "    if a.title() in current_users:\n",
    "        print (f'{a}: Username already taken, please enter a new one.')\n",
    "    else:\n",
    "        print ('{}: User name is availabe.' .format(a))"
   ]
  },
  {
   "cell_type": "code",
   "execution_count": null,
   "metadata": {},
   "outputs": [],
   "source": []
  },
  {
   "cell_type": "code",
   "execution_count": null,
   "metadata": {},
   "outputs": [],
   "source": []
  },
  {
   "cell_type": "code",
   "execution_count": null,
   "metadata": {},
   "outputs": [],
   "source": []
  },
  {
   "cell_type": "markdown",
   "metadata": {},
   "source": [
    "# Q12:"
   ]
  },
  {
   "cell_type": "markdown",
   "metadata": {},
   "source": [
    "Use a dictionary to store information about a person you know.\n",
    "Store their first name, last name, age, and the city in which they live. \n",
    "You should have keys such as first_name, last_name, age, and city. \n",
    "Print each piece of information stored in your dictionary"
   ]
  },
  {
   "cell_type": "code",
   "execution_count": 32,
   "metadata": {},
   "outputs": [
    {
     "data": {
      "text/plain": [
       "{'First_name': 'Hiba', 'Last_name': 'Altaf', 'Age': '19', 'POB': 'Karachi'}"
      ]
     },
     "execution_count": 32,
     "metadata": {},
     "output_type": "execute_result"
    }
   ],
   "source": [
    "bestie_dict = {'First_name' : 'Hiba', 'Last_name' : 'Altaf', 'Age' : '19', 'POB' : 'Karachi'}\n",
    "bestie_dict"
   ]
  },
  {
   "cell_type": "code",
   "execution_count": 33,
   "metadata": {},
   "outputs": [
    {
     "name": "stdout",
     "output_type": "stream",
     "text": [
      "First_name\n",
      "Last_name\n",
      "Age\n",
      "POB\n"
     ]
    }
   ],
   "source": [
    "for keys in bestie_dict.keys():\n",
    "    print (keys)"
   ]
  },
  {
   "cell_type": "code",
   "execution_count": 34,
   "metadata": {},
   "outputs": [
    {
     "name": "stdout",
     "output_type": "stream",
     "text": [
      "Hiba\n",
      "Altaf\n",
      "19\n",
      "Karachi\n"
     ]
    }
   ],
   "source": [
    "for  values in bestie_dict.values():\n",
    "    print (values)"
   ]
  },
  {
   "cell_type": "code",
   "execution_count": 35,
   "metadata": {},
   "outputs": [
    {
     "name": "stdout",
     "output_type": "stream",
     "text": [
      "('First_name', 'Hiba')\n",
      "('Last_name', 'Altaf')\n",
      "('Age', '19')\n",
      "('POB', 'Karachi')\n"
     ]
    }
   ],
   "source": [
    "for items in bestie_dict.items():\n",
    "    print (items)"
   ]
  },
  {
   "cell_type": "markdown",
   "metadata": {},
   "source": [
    "# Q13:"
   ]
  },
  {
   "cell_type": "markdown",
   "metadata": {},
   "source": [
    "Starts with your last question 12 , loop through the dictionary’s keys and values.\n",
    "When you’re sure that your loop works, add five more Python terms to your\n",
    "dictionary . When you run your program again, these new words and meanings\n",
    "should automatically be included in the output."
   ]
  },
  {
   "cell_type": "code",
   "execution_count": 36,
   "metadata": {},
   "outputs": [
    {
     "name": "stdout",
     "output_type": "stream",
     "text": [
      "First_name : Hiba\n",
      "Last_name : Altaf\n",
      "Age : 19\n",
      "POB : Karachi\n"
     ]
    }
   ],
   "source": [
    "for keys, values in bestie_dict.items():\n",
    "    print (keys, ':' ,values)"
   ]
  },
  {
   "cell_type": "code",
   "execution_count": 37,
   "metadata": {},
   "outputs": [
    {
     "name": "stdout",
     "output_type": "stream",
     "text": [
      "Name : Urooj\n",
      "College : SITT\n",
      "Field : EE\n",
      "Age : 18\n"
     ]
    }
   ],
   "source": [
    "bdict = {'Name': 'Urooj', 'College': 'SITT', 'Field': 'EE', 'Age': '18'}\n",
    "for keys, values in bdict.items():\n",
    "    print (keys, ':', values)"
   ]
  },
  {
   "cell_type": "code",
   "execution_count": null,
   "metadata": {},
   "outputs": [],
   "source": []
  },
  {
   "cell_type": "code",
   "execution_count": null,
   "metadata": {},
   "outputs": [],
   "source": []
  },
  {
   "cell_type": "code",
   "execution_count": null,
   "metadata": {},
   "outputs": [],
   "source": []
  },
  {
   "cell_type": "markdown",
   "metadata": {},
   "source": [
    "# Q14:"
   ]
  },
  {
   "cell_type": "markdown",
   "metadata": {},
   "source": [
    "Make a dictionary containing three major rivers and the country\n",
    "each river runs through. One key-value pair might be 'nile': 'egypt'.\n",
    "    \n",
    "    \n",
    "•\t Use a loop to print a sentence about each river, such as The Nile runs\n",
    "through Egypt.\n",
    "\n",
    "NOTE: use upper case through keys and values."
   ]
  },
  {
   "cell_type": "code",
   "execution_count": 45,
   "metadata": {},
   "outputs": [
    {
     "name": "stdout",
     "output_type": "stream",
     "text": [
      "The AMAZON is an important river of S.AMERICA.\n",
      "The SEVERN is an important river of GREAT BRITIAN.\n",
      "The ODELEITE is an important river of PORTUGAL.\n"
     ]
    }
   ],
   "source": [
    "rivers = {'amazon': 's.america', 'severn': 'great britian', 'odeleite': 'portugal'}\n",
    "for values, keys in rivers.items():\n",
    "    print (f'The {values.upper()} is an important river of {keys.upper()}.')"
   ]
  },
  {
   "cell_type": "code",
   "execution_count": null,
   "metadata": {},
   "outputs": [],
   "source": []
  },
  {
   "cell_type": "code",
   "execution_count": null,
   "metadata": {},
   "outputs": [],
   "source": []
  },
  {
   "cell_type": "markdown",
   "metadata": {},
   "source": [
    "# Q15:"
   ]
  },
  {
   "cell_type": "markdown",
   "metadata": {},
   "source": [
    "Make several dictionaries, where the name of each dictionary is the\n",
    "name of a pet. In each dictionary, include the kind of animal and the owner’s\n",
    "name. Store these dictionaries in a list called pets. Next, loop through your list\n",
    "and as you do print everything you know about each pet."
   ]
  },
  {
   "cell_type": "code",
   "execution_count": 69,
   "metadata": {},
   "outputs": [
    {
     "data": {
      "text/plain": [
       "[{'Name': 'Dodo', 'kind': 'Cat', 'Owner': 'Urooj'},\n",
       " {'Name': 'Timmy', 'kind': 'Dog', 'Owner': 'Hiba'},\n",
       " {'Name': 'Quack', 'kind': 'Duck', 'Owner': 'Neha'}]"
      ]
     },
     "execution_count": 69,
     "metadata": {},
     "output_type": "execute_result"
    }
   ],
   "source": [
    "dict1 = {'Name': 'Dodo', 'kind' :'Cat', 'Owner':'Urooj'}\n",
    "dict2= {'Name': 'Timmy', 'kind': 'Dog', 'Owner': 'Hiba'}\n",
    "dict3 = {\"Name\": 'Quack', 'kind': 'Duck', 'Owner': 'Neha'}\n",
    "pets = [dict1, dict2, dict3]\n",
    "pets"
   ]
  },
  {
   "cell_type": "code",
   "execution_count": 73,
   "metadata": {},
   "outputs": [
    {
     "name": "stdout",
     "output_type": "stream",
     "text": [
      "Name : Dodo.\n",
      "kind : Cat.\n",
      "Owner : Urooj.\n",
      "Name : Timmy.\n",
      "kind : Dog.\n",
      "Owner : Hiba.\n",
      "Name : Quack.\n",
      "kind : Duck.\n",
      "Owner : Neha.\n"
     ]
    }
   ],
   "source": [
    "for a in pets:\n",
    "    for keys, values in a.items():\n",
    "        print (f'{keys} : {values}.')\n",
    "    "
   ]
  },
  {
   "cell_type": "code",
   "execution_count": null,
   "metadata": {},
   "outputs": [],
   "source": []
  },
  {
   "cell_type": "code",
   "execution_count": null,
   "metadata": {},
   "outputs": [],
   "source": []
  }
 ],
 "metadata": {
  "kernelspec": {
   "display_name": "Python 3",
   "language": "python",
   "name": "python3"
  },
  "language_info": {
   "codemirror_mode": {
    "name": "ipython",
    "version": 3
   },
   "file_extension": ".py",
   "mimetype": "text/x-python",
   "name": "python",
   "nbconvert_exporter": "python",
   "pygments_lexer": "ipython3",
   "version": "3.7.3"
  }
 },
 "nbformat": 4,
 "nbformat_minor": 2
}
