{
 "cells": [
  {
   "cell_type": "markdown",
   "metadata": {},
   "source": [
    "## 1. Calculate Area of a Circle"
   ]
  },
  {
   "cell_type": "markdown",
   "metadata": {},
   "source": [
    "#### Write a Python program which accepts the radius of a circle from the user and compute the area.\n",
    "###### Program Console Sample Output 1:\n",
    "###### Input Radius: 0.5\n",
    "###### Area of Circle with radius 0.5 is 0.7853981634"
   ]
  },
  {
   "cell_type": "code",
   "execution_count": 1,
   "metadata": {},
   "outputs": [
    {
     "name": "stdout",
     "output_type": "stream",
     "text": [
      "Enter radius.8\n",
      "Area of a cirle with radius 0.8 is 2.0096000000000003\n"
     ]
    }
   ],
   "source": [
    "radius = float(input(\"Enter radius\"))\n",
    "area = 3.14*radius*radius \n",
    "print(f'Area of a cirle with radius {radius} is {area}')"
   ]
  },
  {
   "cell_type": "code",
   "execution_count": null,
   "metadata": {},
   "outputs": [],
   "source": []
  },
  {
   "cell_type": "code",
   "execution_count": null,
   "metadata": {},
   "outputs": [],
   "source": []
  },
  {
   "cell_type": "markdown",
   "metadata": {},
   "source": [
    "## 2. Check Number either positive, negative or zero"
   ]
  },
  {
   "cell_type": "markdown",
   "metadata": {},
   "source": [
    "#### Write a Python program to check if a number is positive, negative or zero\n",
    "###### Program Console Sample Output 1:\n",
    "###### Enter Number: -1\n",
    "##### Negative Number Entered\n",
    "###### Program Console Sample Output 2:\n",
    "##### Integer: 3\n",
    "##### Positive Number Entered\n",
    "###### Program Console Sample Output 3:\n",
    "##### Integer: 0\n",
    "###### Zero Entered"
   ]
  },
  {
   "cell_type": "code",
   "execution_count": 5,
   "metadata": {},
   "outputs": [
    {
     "name": "stdout",
     "output_type": "stream",
     "text": [
      "Enter number -9\n",
      "Negative number entered.\n"
     ]
    }
   ],
   "source": [
    "number = int(input('Enter number '))\n",
    "if number<0:\n",
    "    print ('Negative number entered.')\n",
    "elif number>0:\n",
    "      print ('Positive number entered.')\n",
    "else:\n",
    "    print ('Zero entered.')\n",
    "             "
   ]
  },
  {
   "cell_type": "code",
   "execution_count": 6,
   "metadata": {},
   "outputs": [
    {
     "name": "stdout",
     "output_type": "stream",
     "text": [
      "Integer 6\n",
      "Positive number entered.\n"
     ]
    }
   ],
   "source": [
    "integer = int(input('Integer '))\n",
    "if integer<0:\n",
    "    print ('Negative number entered.')\n",
    "elif integer>0:\n",
    "      print ('Positive number entered.')\n",
    "else:\n",
    "    print ('Zero entered.')\n",
    "             "
   ]
  },
  {
   "cell_type": "code",
   "execution_count": 7,
   "metadata": {},
   "outputs": [
    {
     "name": "stdout",
     "output_type": "stream",
     "text": [
      "Integer 0\n",
      "Zero entered.\n"
     ]
    }
   ],
   "source": [
    "integer = int(input('Integer '))\n",
    "if integer<0:\n",
    "    print ('Negative number entered.')\n",
    "elif integer>0:\n",
    "      print ('Positive number entered.')\n",
    "else:\n",
    "    print ('Zero entered.')"
   ]
  },
  {
   "cell_type": "code",
   "execution_count": null,
   "metadata": {},
   "outputs": [],
   "source": []
  },
  {
   "cell_type": "markdown",
   "metadata": {},
   "source": [
    "## 3. Divisibility Check of two numbers"
   ]
  },
  {
   "cell_type": "markdown",
   "metadata": {},
   "source": [
    "#### Write a Python program to check whether a number is completely divisible by another number. Accept two integer values form the user\n",
    "##### Program Console Sample Output 1:\n",
    "###### Enter numerator: 4\n",
    "###### Enter Denominator: 2\n",
    "##### Number 4 is Completely divisible by 2\n",
    "###### Program Console Sample Output 2:\n",
    "##### Enter numerator: 7\n",
    "\n",
    "##### Enter Denominator: 4\n",
    "###### Number 7 is not Completely divisible by 4"
   ]
  },
  {
   "cell_type": "code",
   "execution_count": 8,
   "metadata": {},
   "outputs": [
    {
     "name": "stdout",
     "output_type": "stream",
     "text": [
      "Enter Numberator:6\n",
      "Enter Denominator:3\n",
      "Number 6 is completely divisible by 3\n"
     ]
    }
   ],
   "source": [
    "num = int(input('Enter Numberator:'))\n",
    "numb = int(input('Enter Denominator:'))\n",
    "if num %numb ==0:\n",
    "    print(f'Number {num} is completely divisible by {numb}')"
   ]
  },
  {
   "cell_type": "code",
   "execution_count": 9,
   "metadata": {},
   "outputs": [
    {
     "name": "stdout",
     "output_type": "stream",
     "text": [
      "Enter Numerator:7\n",
      "Enter Denominator:3\n",
      "number 7 is not completely divisible by 3.\n"
     ]
    }
   ],
   "source": [
    "value = int(input('Enter Numerator:'))\n",
    "value2 = int(input('Enter Denominator:'))\n",
    "if value % value2 >0:\n",
    "    print (f\"number {value} is not completely divisible by {value2}.\")"
   ]
  },
  {
   "cell_type": "code",
   "execution_count": null,
   "metadata": {},
   "outputs": [],
   "source": []
  },
  {
   "cell_type": "code",
   "execution_count": null,
   "metadata": {},
   "outputs": [],
   "source": []
  },
  {
   "cell_type": "code",
   "execution_count": null,
   "metadata": {},
   "outputs": [],
   "source": []
  },
  {
   "cell_type": "code",
   "execution_count": null,
   "metadata": {},
   "outputs": [],
   "source": []
  },
  {
   "cell_type": "markdown",
   "metadata": {},
   "source": [
    "## 4. Calculate Volume of a sphere"
   ]
  },
  {
   "cell_type": "markdown",
   "metadata": {},
   "source": [
    "##### Write a Python program to get the volume of a sphere, please take the radius as input from user"
   ]
  },
  {
   "cell_type": "markdown",
   "metadata": {},
   "source": [
    "##### Program Console Output:\n",
    "##### Enter Radius of Sphere: 1\n",
    "###### Volume of the Sphere with Radius 1 is 4.18"
   ]
  },
  {
   "cell_type": "code",
   "execution_count": 10,
   "metadata": {},
   "outputs": [
    {
     "name": "stdout",
     "output_type": "stream",
     "text": [
      "Enter Radius of Sphere:.4\n",
      "Volume of the Sphere with Radius 0.4 is 0.2679466666666667\n"
     ]
    }
   ],
   "source": [
    "radius = float(input(\"Enter Radius of Sphere:\"))\n",
    "volume = (4/3) * 3.14 *radius*radius*radius\n",
    "print (f\"Volume of the Sphere with Radius {radius} is {volume}\")"
   ]
  },
  {
   "cell_type": "code",
   "execution_count": null,
   "metadata": {},
   "outputs": [],
   "source": []
  },
  {
   "cell_type": "code",
   "execution_count": null,
   "metadata": {},
   "outputs": [],
   "source": []
  },
  {
   "cell_type": "code",
   "execution_count": null,
   "metadata": {},
   "outputs": [],
   "source": []
  },
  {
   "cell_type": "code",
   "execution_count": null,
   "metadata": {},
   "outputs": [],
   "source": []
  },
  {
   "cell_type": "markdown",
   "metadata": {},
   "source": [
    "## 5. Copy string n times\n",
    "#### Write a Python program to get a string which is n (non-negative integer) copies of a given string.\n",
    "##### Program Console Output:\n",
    "##### Enter String: Hi\n",
    "###### How many copies of String you need: 4\n",
    "###### 4 Copies of Hi are HiHiHiHi"
   ]
  },
  {
   "cell_type": "code",
   "execution_count": 12,
   "metadata": {},
   "outputs": [
    {
     "name": "stdout",
     "output_type": "stream",
     "text": [
      "Enter String:Never Give Up!\n",
      "How many copies of String you need?3\n",
      "3 copies of Never Give Up! are Never Give Up!Never Give Up!Never Give Up!\n"
     ]
    }
   ],
   "source": [
    "string = (input('Enter String:'))\n",
    "copies = int(input(\"How many copies of String you need?\"))\n",
    "formula = string*copies\n",
    "print(f'{copies} copies of {string} are {formula}')\n"
   ]
  },
  {
   "cell_type": "code",
   "execution_count": null,
   "metadata": {},
   "outputs": [],
   "source": []
  },
  {
   "cell_type": "code",
   "execution_count": null,
   "metadata": {},
   "outputs": [],
   "source": []
  },
  {
   "cell_type": "code",
   "execution_count": null,
   "metadata": {},
   "outputs": [],
   "source": []
  },
  {
   "cell_type": "code",
   "execution_count": null,
   "metadata": {},
   "outputs": [],
   "source": []
  },
  {
   "cell_type": "markdown",
   "metadata": {},
   "source": [
    "## 6. Check if number is Even or Odd\n",
    "### Write a Python program to find whether a given number (accept from the user) is even or odd, print out an appropriate message to the user\n",
    "#### Program Console Output 1:\n",
    "##### Enter Number: 4\n",
    "###### 4 is Even\n",
    "#### Program Console Output 2:\n",
    "##### Enter Number: 9\n",
    "###### 9 is Odd"
   ]
  },
  {
   "cell_type": "code",
   "execution_count": 13,
   "metadata": {},
   "outputs": [
    {
     "name": "stdout",
     "output_type": "stream",
     "text": [
      "Enter Number:8\n",
      "8 is Even.\n"
     ]
    }
   ],
   "source": [
    "num = int(input(\"Enter Number:\"))\n",
    "if num%2==0:\n",
    "    print (f\"{num} is Even.\")\n",
    "else:\n",
    "    print (\"{} is Odd.\" .format(num))"
   ]
  },
  {
   "cell_type": "code",
   "execution_count": 14,
   "metadata": {},
   "outputs": [
    {
     "name": "stdout",
     "output_type": "stream",
     "text": [
      "Enter Number:5\n",
      "5 is Odd.\n"
     ]
    }
   ],
   "source": [
    "num = int(input(\"Enter Number:\"))\n",
    "if num%2==0:\n",
    "    print (f\"{num} is Even.\")\n",
    "else:\n",
    "    print (\"{} is Odd.\" .format(num))"
   ]
  },
  {
   "cell_type": "code",
   "execution_count": null,
   "metadata": {},
   "outputs": [],
   "source": []
  },
  {
   "cell_type": "code",
   "execution_count": null,
   "metadata": {},
   "outputs": [],
   "source": []
  },
  {
   "cell_type": "code",
   "execution_count": null,
   "metadata": {},
   "outputs": [],
   "source": []
  },
  {
   "cell_type": "markdown",
   "metadata": {},
   "source": [
    "## 7. Vowel Tester\n",
    "### Write a Python program to test whether a passed letter is a vowel or not\n",
    "#### Program Console Output 1:\n",
    "##### Enter a character: A\n",
    "###### Letter A is Vowel\n",
    "#### Program Console Output 2:\n",
    "##### Enter a character: e\n",
    "###### Letter e is Vowel\n",
    "#### Program Console Output 2:\n",
    "##### Enter a character: N\n",
    "###### Letter N is not Vowel"
   ]
  },
  {
   "cell_type": "code",
   "execution_count": 15,
   "metadata": {},
   "outputs": [
    {
     "name": "stdout",
     "output_type": "stream",
     "text": [
      "Enter a character:a\n",
      "a is Vowel.\n"
     ]
    }
   ],
   "source": [
    "alpha = input('Enter a character:')\n",
    "if (alpha=='A' or alpha=='E' or alpha=='I'  or alpha==\"O\" or alpha == \"U\" or alpha=='a' or alpha=='e' or alpha=='i'or alpha=='o' or alpha=='u'):\n",
    "    print(f'{alpha} is Vowel.')\n",
    "else:\n",
    "    print(f'{alpha} is not Vowel.')\n",
    "    "
   ]
  },
  {
   "cell_type": "code",
   "execution_count": 16,
   "metadata": {},
   "outputs": [
    {
     "name": "stdout",
     "output_type": "stream",
     "text": [
      "Enter a character:d\n",
      "d is not Vowel.\n"
     ]
    }
   ],
   "source": [
    "alpha = input('Enter a character:')\n",
    "if (alpha=='A' or alpha=='E' or alpha=='I'  or alpha==\"O\" or alpha == \"U\" or alpha=='a' or alpha=='e' or alpha=='i'or alpha=='o' or alpha=='u'):\n",
    "    print(f'{alpha} is Vowel.')\n",
    "else:\n",
    "    print(f'{alpha} is not Vowel.')\n",
    "    "
   ]
  },
  {
   "cell_type": "code",
   "execution_count": 17,
   "metadata": {},
   "outputs": [
    {
     "name": "stdout",
     "output_type": "stream",
     "text": [
      "Enter a character:E\n",
      "E is Vowel.\n"
     ]
    }
   ],
   "source": [
    "alpha = input('Enter a character:')\n",
    "if (alpha=='A' or alpha=='E' or alpha=='I'  or alpha==\"O\" or alpha == \"U\" or alpha=='a' or alpha=='e' or alpha=='i'or alpha=='o' or alpha=='u'):\n",
    "    print(f'{alpha} is Vowel.')\n",
    "else:\n",
    "    print(f'{alpha} is not Vowel.')\n",
    "    "
   ]
  },
  {
   "cell_type": "code",
   "execution_count": 18,
   "metadata": {},
   "outputs": [
    {
     "name": "stdout",
     "output_type": "stream",
     "text": [
      "Enter a character:G\n",
      "G is not Vowel.\n"
     ]
    }
   ],
   "source": [
    "alpha = input('Enter a character:')\n",
    "if (alpha=='A' or alpha=='E' or alpha=='I'  or alpha==\"O\" or alpha == \"U\" or alpha=='a' or alpha=='e' or alpha=='i'or alpha=='o' or alpha=='u'):\n",
    "    print(f'{alpha} is Vowel.')\n",
    "else:\n",
    "    print(f'{alpha} is not Vowel.')\n",
    "    "
   ]
  },
  {
   "cell_type": "markdown",
   "metadata": {},
   "source": [
    "## 8. Triangle area\n",
    "### Write a Python program that will accept the base and height of a triangle and compute the area\n",
    "###### Reference:\n",
    "https://www.mathgoodies.com/lessons/vol1/area_triangle"
   ]
  },
  {
   "cell_type": "code",
   "execution_count": 19,
   "metadata": {},
   "outputs": [
    {
     "name": "stdout",
     "output_type": "stream",
     "text": [
      "Enter base value:6\n",
      "Enter Height value:3\n",
      "9.0 is the area of the Triangle.\n"
     ]
    }
   ],
   "source": [
    "base = int(input('Enter base value:'))\n",
    "height = int(input('Enter Height value:'))\n",
    "area = 1/2*base*height\n",
    "print (f'{area} is the area of the Triangle.')"
   ]
  },
  {
   "cell_type": "code",
   "execution_count": null,
   "metadata": {},
   "outputs": [],
   "source": []
  },
  {
   "cell_type": "code",
   "execution_count": null,
   "metadata": {},
   "outputs": [],
   "source": []
  },
  {
   "cell_type": "code",
   "execution_count": null,
   "metadata": {},
   "outputs": [],
   "source": []
  },
  {
   "cell_type": "markdown",
   "metadata": {},
   "source": [
    "## 9. Calculate Interest\n",
    "### Write a Python program to compute the future value of a specified principal amount, rate of interest, and a number of years\n",
    "#### Program Console Sample 1:\n",
    "##### Please enter principal amount: 10000\n",
    "###### Please Enter Rate of interest in %: 0.1\n",
    "###### Enter number of years for investment: 5\n",
    "###### After 5 years your principal amount 10000 over an interest rate of 0.1 % will be 16105.1"
   ]
  },
  {
   "cell_type": "code",
   "execution_count": 20,
   "metadata": {},
   "outputs": [
    {
     "name": "stdout",
     "output_type": "stream",
     "text": [
      "Please enter Principal amount:10000\n",
      "Please enter Rate of Interest in %: .1\n",
      "Enter number of years of investment: 5\n",
      "After 5 years your principal amount 10000 over an interest rate of 0.1% will be 16105.100000000006\n"
     ]
    }
   ],
   "source": [
    "p = int(input('Please enter Principal amount:')) \n",
    "r = float(input('Please enter Rate of Interest in %: '))\n",
    "n= int(input('Enter number of years of investment: '))\n",
    "future_value = p*((1+(r))**n)\n",
    "print (f'After {n} years your principal amount {p} over an interest rate of {r}% will be {future_value}')"
   ]
  },
  {
   "cell_type": "code",
   "execution_count": null,
   "metadata": {},
   "outputs": [],
   "source": []
  },
  {
   "cell_type": "code",
   "execution_count": null,
   "metadata": {},
   "outputs": [],
   "source": []
  },
  {
   "cell_type": "code",
   "execution_count": null,
   "metadata": {},
   "outputs": [],
   "source": []
  },
  {
   "cell_type": "code",
   "execution_count": null,
   "metadata": {},
   "outputs": [],
   "source": []
  },
  {
   "cell_type": "code",
   "execution_count": null,
   "metadata": {},
   "outputs": [],
   "source": []
  },
  {
   "cell_type": "markdown",
   "metadata": {},
   "source": [
    "## 10. Euclidean distance\n",
    "### write a Python program to compute the distance between the points (x1, y1) and (x2, y2).\n",
    "#### Program Console Sample 1:\n",
    "###### Enter Co-ordinate for x1: 2\n",
    "###### Enter Co-ordinate for x2: 4\n",
    "###### Enter Co-ordinate for y1: 4\n",
    "###### Enter Co-ordinate for y2: 4\n",
    "###### Distance between points (2, 4) and (4, 4) is 2"
   ]
  },
  {
   "cell_type": "markdown",
   "metadata": {},
   "source": [
    "###### Reference:\n",
    "https://en.wikipedia.org/wiki/Euclidean_distance"
   ]
  },
  {
   "cell_type": "code",
   "execution_count": 26,
   "metadata": {},
   "outputs": [
    {
     "name": "stdout",
     "output_type": "stream",
     "text": [
      "Enter Co-ordinate for x1: 2\n",
      "Enter Co-ordinate for x2: 2\n",
      "Enter Co-ordinate for y1: 4\n",
      "Enter Co-ordinate for y2: 4\n",
      "Distance between points (2, 2)and (4, 4) is 0.0\n"
     ]
    }
   ],
   "source": [
    "x1 = int(input('Enter Co-ordinate for x1: '))\n",
    "x2 = int(input('Enter Co-ordinate for x2: '))\n",
    "y1 = int(input('Enter Co-ordinate for y1: '))\n",
    "y2 = int(input('Enter Co-ordinate for y2: '))\n",
    "square = (x2-x1)**(2)+(y2-y1)**(2)\n",
    "distance = square** 0.5\n",
    "print (f'Distance between points {x1, x2}and {y1, y2} is {distance}')"
   ]
  },
  {
   "cell_type": "code",
   "execution_count": 25,
   "metadata": {},
   "outputs": [
    {
     "name": "stdout",
     "output_type": "stream",
     "text": [
      "Enter Co-ordinate for x1: 8\n",
      "Enter Co-ordinate for x2: 4\n",
      "Enter Co-ordinate for y1: 6\n",
      "Enter Co-ordinate for y2: 3\n",
      "Distance between points (8, 4)and (6, 3) is 5.0\n"
     ]
    }
   ],
   "source": [
    "x1 = int(input('Enter Co-ordinate for x1: '))\n",
    "x2 = int(input('Enter Co-ordinate for x2: '))\n",
    "y1 = int(input('Enter Co-ordinate for y1: '))\n",
    "y2 = int(input('Enter Co-ordinate for y2: '))\n",
    "square = (x2-x1)**(2)+(y2-y1)**(2)\n",
    "distance = square** 0.5\n",
    "print (f'Distance between points {x1, x2}and {y1, y2} is {distance}')"
   ]
  },
  {
   "cell_type": "code",
   "execution_count": null,
   "metadata": {},
   "outputs": [],
   "source": []
  },
  {
   "cell_type": "code",
   "execution_count": null,
   "metadata": {},
   "outputs": [],
   "source": []
  },
  {
   "cell_type": "markdown",
   "metadata": {},
   "source": [
    "## 11. Feet to Centimeter Converter\n",
    "### Write a Python program to convert height in feet to centimetres.\n",
    "##### Program Console Sample 1:\n",
    "###### Enter Height in Feet: 5\n",
    "###### There are 152.4 Cm in 5 ft\n",
    "###### Reference:\n",
    "https://www.rapidtables.com/convert/length/feet-to-cm.html"
   ]
  },
  {
   "cell_type": "code",
   "execution_count": 27,
   "metadata": {},
   "outputs": [
    {
     "name": "stdout",
     "output_type": "stream",
     "text": [
      "Enter Height in Feet: 8\n",
      "There are 243.84 Cm in 8 ft\n"
     ]
    }
   ],
   "source": [
    "hf = int(input('Enter Height in Feet: '))\n",
    "cm = hf*30.48\n",
    "print(f'There are {cm} Cm in {hf} ft')"
   ]
  },
  {
   "cell_type": "code",
   "execution_count": 28,
   "metadata": {},
   "outputs": [
    {
     "name": "stdout",
     "output_type": "stream",
     "text": [
      "Enter Height in Feet: 2\n",
      "There are 60.96 Cm in 2 ft\n"
     ]
    }
   ],
   "source": [
    "hf = int(input('Enter Height in Feet: '))\n",
    "cm = hf*30.48\n",
    "print(f'There are {cm} Cm in {hf} ft')"
   ]
  },
  {
   "cell_type": "code",
   "execution_count": null,
   "metadata": {},
   "outputs": [],
   "source": []
  },
  {
   "cell_type": "code",
   "execution_count": null,
   "metadata": {},
   "outputs": [],
   "source": []
  },
  {
   "cell_type": "markdown",
   "metadata": {},
   "source": [
    "## 12. BMI Calculator\n",
    "### Write a Python program to calculate body mass index\n",
    "##### Program Console Sample 1:\n",
    "###### Enter Height in Cm: 180\n",
    "###### Enter Weight in Kg: 75\n",
    "###### Your BMI is 23.15"
   ]
  },
  {
   "cell_type": "code",
   "execution_count": 37,
   "metadata": {},
   "outputs": [
    {
     "name": "stdout",
     "output_type": "stream",
     "text": [
      "Enter Height in Cm: 180\n",
      "Enter Weight in Kg: 75\n",
      "Your BMI is 23.148148148148145\n"
     ]
    }
   ],
   "source": [
    "h = float(input('Enter Height in Cm: '))\n",
    "w = int(input('Enter Weight in Kg: '))\n",
    "hm = h*0.01\n",
    "BMI = w/(hm**2)\n",
    "print(f'Your BMI is {BMI}')"
   ]
  },
  {
   "cell_type": "code",
   "execution_count": 40,
   "metadata": {},
   "outputs": [
    {
     "name": "stdout",
     "output_type": "stream",
     "text": [
      "Enter Height in Cm: 200\n",
      "Enter Weight in Kg: 45\n",
      "Your BMI is 11.25\n"
     ]
    }
   ],
   "source": [
    "h = float(input('Enter Height in Cm: '))\n",
    "w = int(input('Enter Weight in Kg: '))\n",
    "hm = h*0.01\n",
    "BMI = w/(hm**2)\n",
    "print(f'Your BMI is {BMI}')"
   ]
  },
  {
   "cell_type": "code",
   "execution_count": null,
   "metadata": {},
   "outputs": [],
   "source": []
  },
  {
   "cell_type": "markdown",
   "metadata": {},
   "source": [
    "## 13. Sum of n Positive Integers\n",
    "### Write a python program to sum of the first n positive integers\n",
    "#### Program Console Sample 1:\n",
    "###### Enter value of n: 5\n",
    "###### Sum of n Positive integers till 5 is 15"
   ]
  },
  {
   "cell_type": "code",
   "execution_count": 41,
   "metadata": {},
   "outputs": [
    {
     "name": "stdout",
     "output_type": "stream",
     "text": [
      "Enter value of n: 5\n",
      "Sum of n positive integers till 5 is 15.0\n"
     ]
    }
   ],
   "source": [
    "num = int(input('Enter value of n: '))\n",
    "sum = (num*(num + 1))/2 \n",
    "print(f'Sum of n positive integers till {num} is {sum}')"
   ]
  },
  {
   "cell_type": "code",
   "execution_count": 42,
   "metadata": {},
   "outputs": [
    {
     "name": "stdout",
     "output_type": "stream",
     "text": [
      "Enter value of n: 8\n",
      "Sum of n positive integers till 8 is 36.0\n"
     ]
    }
   ],
   "source": [
    "num = int(input('Enter value of n: '))\n",
    "sum = (num*(num + 1))/2 \n",
    "print(f'Sum of n positive integers till {num} is {sum}')\n"
   ]
  },
  {
   "cell_type": "code",
   "execution_count": null,
   "metadata": {},
   "outputs": [],
   "source": []
  },
  {
   "cell_type": "markdown",
   "metadata": {},
   "source": [
    "## 14. Digits Sum of a Number\n",
    "### Write a Python program to calculate the sum of the digits in an integer\n",
    "#### Program Console Sample 1:\n",
    "##### Enter a number: 15\n",
    "###### Sum of 1 + 5 is 6\n",
    "#### Program Console Sample 2:\n",
    "##### Enter a number: 1234\n",
    "###### Sum of 1 + 2 + 3 + 4 is 10"
   ]
  },
  {
   "cell_type": "code",
   "execution_count": 46,
   "metadata": {},
   "outputs": [
    {
     "name": "stdout",
     "output_type": "stream",
     "text": [
      "Enter a number: 1234\n",
      "Sum of 1 2 3 4 is 10\n"
     ]
    }
   ],
   "source": [
    "num = int(input('Enter a number: '))\n",
    "a = num//1000\n",
    "b = (num-a*1000)//100\n",
    "c = (num-a*1000-b*100)//10\n",
    "d =num-a*1000-b*100-c*10\n",
    "print(f\"Sum of {a} {b} {c} {d} is {a +b +c +d}\")"
   ]
  },
  {
   "cell_type": "code",
   "execution_count": 53,
   "metadata": {},
   "outputs": [
    {
     "name": "stdout",
     "output_type": "stream",
     "text": [
      "Enter a number: 12\n",
      "Sum of 0+ 0+ 1+ 2 is 3\n"
     ]
    }
   ],
   "source": [
    "num = int(input('Enter a number: '))\n",
    "a = num//1000\n",
    "b = (num-a*1000)//100\n",
    "c = (num-a*1000-b*100)//10\n",
    "d =num-a*1000-b*100-c*10\n",
    "print(f\"Sum of {a}+ {b}+ {c}+ {d} is {a +b +c +d}\")"
   ]
  },
  {
   "cell_type": "code",
   "execution_count": null,
   "metadata": {},
   "outputs": [],
   "source": []
  },
  {
   "cell_type": "code",
   "execution_count": null,
   "metadata": {},
   "outputs": [],
   "source": []
  },
  {
   "cell_type": "code",
   "execution_count": null,
   "metadata": {},
   "outputs": [],
   "source": []
  },
  {
   "cell_type": "code",
   "execution_count": null,
   "metadata": {},
   "outputs": [],
   "source": []
  },
  {
   "cell_type": "code",
   "execution_count": null,
   "metadata": {},
   "outputs": [],
   "source": []
  },
  {
   "cell_type": "code",
   "execution_count": null,
   "metadata": {},
   "outputs": [],
   "source": []
  }
 ],
 "metadata": {
  "kernelspec": {
   "display_name": "Python 3",
   "language": "python",
   "name": "python3"
  },
  "language_info": {
   "codemirror_mode": {
    "name": "ipython",
    "version": 3
   },
   "file_extension": ".py",
   "mimetype": "text/x-python",
   "name": "python",
   "nbconvert_exporter": "python",
   "pygments_lexer": "ipython3",
   "version": "3.7.3"
  }
 },
 "nbformat": 4,
 "nbformat_minor": 2
}
